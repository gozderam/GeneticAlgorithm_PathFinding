{
  "nbformat": 4,
  "nbformat_minor": 0,
  "metadata": {
    "colab": {
      "name": "WSI.ipynb",
      "provenance": [],
      "collapsed_sections": []
    },
    "kernelspec": {
      "display_name": "Python 3",
      "name": "python3"
    },
    "language_info": {
      "name": "python"
    }
  },
  "cells": [
    {
      "cell_type": "markdown",
      "metadata": {
        "id": "Rqp6AsKUh0gP"
      },
      "source": [
        "# Porównanie algorytmów planowania z algorytmem genetycznym w problemie poszukiwania najkrótszej ścieżki w labiryncie z przeszkodami\n",
        "\n",
        "---\n",
        "## Wojciech Krawczyk, Mateusz Jastrzębiowski, Michał Gozdera, Paweł Frąckiewicz, Michał Klewicki\n",
        "\n",
        "### Wstęp do Sztucznej Inteligencji, MiNI PW, 31.05.2021\n"
      ]
    },
    {
      "cell_type": "markdown",
      "metadata": {
        "id": "NFiqH_iEyaY_"
      },
      "source": [
        "Ustalenia projektowe:\n",
        "\n",
        "\n",
        "\n",
        "1.   Problem reprezentujemy jako instancję klasy LabirynthProblem, a w niej pola:\n",
        "*   labirynth - kwadratowa tablica numpy (0 - przeszkoda, 1 - brak przeszkody)\n",
        "*   finish_position - tablica numpy 1x2 - pozycja mety\n",
        "*   size - pomocnicza właściwość, która mówi, jakie wymiary ma labirynt (a jest kwadratowy więc jedna liczba)\n",
        "2. Punkt startowy to zawsze (0,0), nie może tam być przeszkody.\n",
        "3. Rozwiązanie reprezentujemy jako tablicę numpy 2D o wymiarach (m, 2), gdzie wiersze reprezentują kolejne kroki rozwiązania, a w kolumnach współrzędne danego kroku.\n",
        "\n",
        "\n",
        "\n",
        "---\n",
        "\n",
        "\n"
      ]
    },
    {
      "cell_type": "markdown",
      "metadata": {
        "id": "qAQtna1jfsS2"
      },
      "source": [
        "### Reprezentacja problemu\n",
        "\n",
        "\n",
        "---\n",
        "\n",
        "\n"
      ]
    },
    {
      "cell_type": "code",
      "metadata": {
        "id": "28i8njGvgRta"
      },
      "source": [
        "import PIL\n",
        "import numpy as np\n",
        "import matplotlib.pyplot as plt\n",
        "import random\n",
        "import math\n",
        "from typing import List, Set, Dict, Tuple, Optional, Callable\n",
        "from collections import namedtuple\n",
        "import unittest\n",
        "from operator import attrgetter\n",
        "import sys\n",
        "import time\n",
        "import pandas as pd"
      ],
      "execution_count": null,
      "outputs": []
    },
    {
      "cell_type": "code",
      "metadata": {
        "id": "CBavveTZ5QL7"
      },
      "source": [
        "class Labirynth_Problem:\n",
        "  starting_position = (0,0)\n",
        "\n",
        "  #finish position - numpy array 1x2\n",
        "  def __init__(self, labirynth: np.ndarray, finish_position: np.ndarray):\n",
        "    self.labirynth = labirynth\n",
        "    self.finish_position = finish_position\n",
        "    self.size = len(labirynth[0])"
      ],
      "execution_count": null,
      "outputs": []
    },
    {
      "cell_type": "code",
      "metadata": {
        "id": "eyzDHH025Tk2"
      },
      "source": [
        "class Labirynth_Solver:\n",
        "  #solution is mx2 numpy array, where m is the number of steps in the soulution\n",
        "  #first column are x coordinates, second column - y coordinates\n",
        "  def solve_problem(self, problem: Labirynth_Problem) -> np.ndarray:\n",
        "    pass"
      ],
      "execution_count": null,
      "outputs": []
    },
    {
      "cell_type": "code",
      "metadata": {
        "id": "3NOG2-NLKLjR"
      },
      "source": [
        "def generate_random_problem(size: int = 10, obstacle_rate: float = 0.2) -> Labirynth_Problem:\n",
        "  temp = np.random.rand(size, size)\n",
        "  labirynth = np.ones((size, size), dtype=int)\n",
        "  labirynth[temp<obstacle_rate] = 0\n",
        "  #start cannot contain obstacle\n",
        "  labirynth[0,0] = 1\n",
        "  finish_position = np.random.randint(0,size,(1,2))\n",
        "  #finish cannot contain obstacle\n",
        "  labirynth[finish_position[:,0],finish_position[:,1]] = 1\n",
        "  return Labirynth_Problem(labirynth, finish_position)\n"
      ],
      "execution_count": null,
      "outputs": []
    },
    {
      "cell_type": "code",
      "metadata": {
        "colab": {
          "base_uri": "https://localhost:8080/"
        },
        "id": "YzgdAdRtqlvE",
        "outputId": "d033a3b3-411f-4252-ecad-7a95619187e3"
      },
      "source": [
        "lab = generate_random_problem(100, 0.1)\n",
        "lab.labirynth, lab.finish_position"
      ],
      "execution_count": null,
      "outputs": [
        {
          "output_type": "execute_result",
          "data": {
            "text/plain": [
              "(array([[1, 1, 1, ..., 1, 1, 1],\n",
              "        [1, 1, 1, ..., 1, 1, 1],\n",
              "        [1, 1, 1, ..., 1, 1, 0],\n",
              "        ...,\n",
              "        [1, 1, 1, ..., 0, 1, 1],\n",
              "        [1, 1, 1, ..., 1, 1, 1],\n",
              "        [1, 0, 1, ..., 1, 1, 1]]), array([[19, 29]]))"
            ]
          },
          "metadata": {
            "tags": []
          },
          "execution_count": 52
        }
      ]
    },
    {
      "cell_type": "code",
      "metadata": {
        "id": "GER0tc3xhIMq"
      },
      "source": [
        "def plot_labirynth(labirynth_problem: Labirynth_Problem) -> None:\n",
        "  plt.imshow(labirynth_problem.labirynth, cmap = \"gray\")\n",
        "  plt.plot(labirynth_problem.finish_position[0,1],\n",
        "           labirynth_problem.finish_position[0,0],\n",
        "           \"r.\")\n",
        "  plt.yticks([])\n",
        "  plt.xticks([])\n",
        "\n",
        "def plot_path(path: np.ndarray) -> None:\n",
        "  plt.plot(path[:,1], path[:,0])\n",
        "\n",
        "def plot_population(population) -> None:\n",
        "  for i in range(len(population.members)):\n",
        "    curr_path = population.members[i].get_solution()\n",
        "    plt.plot(curr_path[:,1], curr_path[:,0])"
      ],
      "execution_count": null,
      "outputs": []
    },
    {
      "cell_type": "code",
      "metadata": {
        "id": "zAqoc6r-zKr0"
      },
      "source": [
        "pth = np.zeros((100,2))\n",
        "pth[:,0] = np.arange(0,100)\n",
        "pth[:,1] = np.arange(0,100)"
      ],
      "execution_count": null,
      "outputs": []
    },
    {
      "cell_type": "code",
      "metadata": {
        "id": "coGChzgHvCYK",
        "colab": {
          "base_uri": "https://localhost:8080/",
          "height": 437
        },
        "outputId": "b913cf30-7157-4297-ba89-730b17e9f4cb"
      },
      "source": [
        "lab = generate_random_problem(obstacle_rate=0.2)\n",
        "plot_labirynth(lab)\n",
        "print(lab.labirynth)\n",
        "print(lab.finish_position)"
      ],
      "execution_count": null,
      "outputs": [
        {
          "output_type": "stream",
          "text": [
            "[[1 1 1 1 1 1 1 1 1 1]\n",
            " [1 1 1 1 1 1 1 1 1 0]\n",
            " [1 0 0 1 1 1 0 1 1 1]\n",
            " [1 0 1 0 0 1 1 0 1 1]\n",
            " [1 1 1 0 1 1 0 1 1 0]\n",
            " [1 1 0 1 1 1 0 1 1 0]\n",
            " [1 1 1 1 0 1 0 1 1 1]\n",
            " [1 1 0 1 1 1 1 0 1 1]\n",
            " [1 1 1 1 1 1 1 1 1 1]\n",
            " [1 1 1 1 1 1 1 0 1 0]]\n",
            "[[4 7]]\n"
          ],
          "name": "stdout"
        },
        {
          "output_type": "display_data",
          "data": {
            "image/png": "[encoded data removed]",
            "text/plain": [
              "<Figure size 432x288 with 1 Axes>"
            ]
          },
          "metadata": {
            "tags": []
          }
        }
      ]
    },
    {
      "cell_type": "markdown",
      "metadata": {
        "id": "4_rY2v7ph7qj"
      },
      "source": [
        "### Algorytmy planowania\n",
        "\n",
        "---\n"
      ]
    },
    {
      "cell_type": "markdown",
      "metadata": {
        "id": "1EwpFl4NOwpe"
      },
      "source": [
        "Algorytm Dijkstry"
      ]
    },
    {
      "cell_type": "code",
      "metadata": {
        "id": "-Kt-j-SIOcm9"
      },
      "source": [
        "class Tile:\n",
        "    def __init__(self, x, y, previous=None):\n",
        "        self.position = (x, y)\n",
        "        self.previous = previous\n",
        "        self.x = x\n",
        "        self.y = y\n",
        "\n",
        "    value = sys.maxsize\n",
        "\n",
        "    def __eq__(self, other):\n",
        "        return self.position == other.position\n",
        "\n",
        "\n",
        "class DijkstraSolver(Labirynth_Solver):\n",
        "    def __init__(self):\n",
        "        pass\n",
        "\n",
        "    def solve_problem(self, problem: Labirynth_Problem) -> np.ndarray:\n",
        "        rows = problem.size\n",
        "        columns = problem.size\n",
        "        labirynth = problem.labirynth\n",
        "        start = Tile(0, 0)\n",
        "        destination = Tile(problem.finish_position[:, 0], problem.finish_position[:, 1])\n",
        "        destination.value = 0\n",
        "        success_flag = False\n",
        "        openQueue = [destination]\n",
        "        closed = np.zeros((rows, columns), dtype=int)\n",
        "        while len(openQueue) > 0:\n",
        "            openQueue.sort(key=lambda tile: tile.value, reverse=True)\n",
        "            current_tile = openQueue.pop()\n",
        "            closed[(current_tile.x, current_tile.y)] = 1\n",
        "            if current_tile.position == start.position:  # is finish?\n",
        "                path = []\n",
        "                while current_tile != destination:\n",
        "                    path.append(current_tile)\n",
        "                    current_tile = current_tile.previous\n",
        "                path.append(destination)\n",
        "                solution = np.empty((len(path), 2), dtype=np.int32)\n",
        "                for x in range(len(path)):\n",
        "                    solution[x, 0] = path[x].x\n",
        "                    solution[x, 1] = path[x].y\n",
        "                return solution\n",
        "                break\n",
        "            else:  #  add all neighbours to open and add current to closed \n",
        "                (x, y) = current_tile.position\n",
        "                to_add = []\n",
        "                if x-1 >= 0:\n",
        "                    if closed[(x - 1, y)] == 0 and labirynth[(x - 1, y)] == 1:\n",
        "                        to_add.append(Tile(x - 1, y, current_tile))\n",
        "                if x+1 < columns:\n",
        "                    if closed[(x + 1, y)] == 0 and labirynth[(x + 1, y)] == 1:\n",
        "                        to_add.append((Tile(x + 1, y, current_tile)))\n",
        "                if y-1 >= 0:\n",
        "                    if closed[(x, y - 1)] == 0 and labirynth[(x, y - 1)] == 1:\n",
        "                        to_add.append(Tile(x, y - 1, current_tile))\n",
        "                if y+1 < rows:\n",
        "                    if closed[(x, y + 1)] == 0 and labirynth[(x, y + 1)] == 1:\n",
        "                        to_add.append((Tile(x, y + 1, current_tile)))\n",
        "                for next_tile in to_add:\n",
        "                    if next_tile in openQueue:  # x was used already\n",
        "                        if next_tile.value > current_tile.value + 1:\n",
        "                            next_tile.value = current_tile.value + 1\n",
        "                            next_tile.previous = current_tile\n",
        "                    else:  # x wasn't used\n",
        "                        next_tile.value = current_tile.value + 1\n",
        "                        next_tile.previous = current_tile\n",
        "                        openQueue.append(next_tile)\n",
        "        return np.array([[-1, -1]])\n",
        "\n"
      ],
      "execution_count": null,
      "outputs": []
    },
    {
      "cell_type": "markdown",
      "metadata": {
        "id": "eGdRpE63PWcx"
      },
      "source": [
        "Algorytm Dijkstry - TESTY\n"
      ]
    },
    {
      "cell_type": "code",
      "metadata": {
        "id": "jXRh3tnYPcgZ",
        "colab": {
          "base_uri": "https://localhost:8080/",
          "height": 419
        },
        "outputId": "9eaeba3a-eaf8-4f68-9574-b003e828e9a0"
      },
      "source": [
        "    lab = generate_random_problem(100, 0.25)\n",
        "    plt.figure(figsize=(5, 5), dpi=100)\n",
        "    plot_labirynth(lab)\n",
        "\n",
        "    aSolver = DijkstraSolver()\n",
        "    pth = aSolver.solve_problem(lab)\n",
        "\n",
        "    plot_path(pth)\n",
        "    plt.show()"
      ],
      "execution_count": null,
      "outputs": [
        {
          "output_type": "display_data",
          "data": {
            "image/png": "[encoded data removed]",
            "text/plain": [
              "<Figure size 500x500 with 1 Axes>"
            ]
          },
          "metadata": {
            "tags": []
          }
        }
      ]
    },
    {
      "cell_type": "code",
      "metadata": {
        "colab": {
          "base_uri": "https://localhost:8080/",
          "height": 738
        },
        "id": "4I9B1YxRs5Lr",
        "outputId": "a4c6edc5-bc77-4ae0-dee1-3e209cd8195d"
      },
      "source": [
        "    lab = generate_random_problem(10, 0.2)\n",
        "    plt.figure(figsize=(5, 5), dpi=100)\n",
        "    plot_labirynth(lab)\n",
        "\n",
        "    aSolver = DijkstraSolver()\n",
        "    pth = aSolver.solve_problem(lab)\n",
        "\n",
        "    plot_path(pth)\n",
        "    plt.show()\n",
        "\n",
        "    lab.labirynth, lab.finish_position, pth"
      ],
      "execution_count": null,
      "outputs": [
        {
          "output_type": "display_data",
          "data": {
            "image/png": "[encoded data removed]",
            "text/plain": [
              "<Figure size 500x500 with 1 Axes>"
            ]
          },
          "metadata": {
            "tags": []
          }
        },
        {
          "output_type": "execute_result",
          "data": {
            "text/plain": [
              "(array([[1, 1, 1, 1, 1, 1, 1, 1, 1, 1],\n",
              "        [1, 1, 1, 1, 1, 1, 0, 1, 0, 1],\n",
              "        [0, 1, 1, 1, 0, 0, 0, 1, 1, 1],\n",
              "        [1, 1, 1, 1, 1, 1, 1, 0, 0, 0],\n",
              "        [0, 1, 1, 0, 1, 1, 0, 1, 0, 1],\n",
              "        [1, 1, 1, 1, 1, 1, 1, 1, 1, 1],\n",
              "        [1, 1, 1, 1, 0, 0, 1, 1, 0, 1],\n",
              "        [1, 1, 1, 1, 1, 1, 1, 1, 1, 1],\n",
              "        [1, 1, 1, 1, 1, 1, 1, 1, 1, 1],\n",
              "        [0, 1, 1, 1, 1, 1, 1, 1, 1, 1]]), array([[7, 2]]), array([[0, 0],\n",
              "        [1, 0],\n",
              "        [1, 1],\n",
              "        [1, 2],\n",
              "        [2, 2],\n",
              "        [3, 2],\n",
              "        [4, 2],\n",
              "        [5, 2],\n",
              "        [6, 2],\n",
              "        [7, 2]], dtype=int32))"
            ]
          },
          "metadata": {
            "tags": []
          },
          "execution_count": 58
        }
      ]
    },
    {
      "cell_type": "code",
      "metadata": {
        "id": "_g7GpnKMnLxk",
        "colab": {
          "base_uri": "https://localhost:8080/"
        },
        "outputId": "31521886-5279-4e78-add0-aacf5489da79"
      },
      "source": [
        "class DijkstraSolverTestCase(unittest.TestCase):\n",
        "    def basicMapSuccess(self):\n",
        "        labirynth = np.array([[1, 0, 1, 0, 1 ], \n",
        "                              [1, 0, 0, 0, 0 ], \n",
        "                              [1, 1, 1, 1, 1 ], \n",
        "                              [0, 0, 0, 0, 0 ], \n",
        "                              [1, 1, 1, 1, 1 ]])\n",
        "        finish = np.array([[2, 4]])\n",
        "        problem = Labirynth_Problem(labirynth, finish)\n",
        "\n",
        "        dSolver = DijkstraSolver()\n",
        "        solution = dSolver.solve_problem(problem)\n",
        "        expected = np.array([[0, 0],\n",
        "                             [1, 0],\n",
        "                             [2, 0],\n",
        "                             [2, 1],\n",
        "                             [2, 2],\n",
        "                             [2, 3],\n",
        "                             [2, 4]])\n",
        "        self.assertEqual(np.array_equal(solution, expected), True)\n",
        "\n",
        "    def startIsMeta(self):\n",
        "        labirynth = np.array([[1, 0, 1, 0, 1 ], \n",
        "                              [1, 0, 0, 0, 0 ], \n",
        "                              [1, 1, 1, 1, 1 ], \n",
        "                              [0, 0, 0, 0, 0 ], \n",
        "                              [1, 1, 1, 1, 1 ]])\n",
        "        finish = np.array([[0, 0]])\n",
        "        problem = Labirynth_Problem(labirynth, finish)\n",
        "\n",
        "        dSolver = DijkstraSolver()\n",
        "        solution = dSolver.solve_problem(problem)\n",
        "        expected = np.array([[0, 0]])\n",
        "        self.assertEqual(np.array_equal(solution, expected), True)\n",
        "\n",
        "    def noPath(self):\n",
        "        labirynth = np.array([[1, 0, 1, 0, 1 ], \n",
        "                              [1, 0, 0, 0, 0 ], \n",
        "                              [1, 1, 1, 0, 1 ], \n",
        "                              [0, 0, 0, 0, 0 ], \n",
        "                              [1, 1, 1, 1, 1 ]])\n",
        "        finish = np.array([[2, 4]])\n",
        "        problem = Labirynth_Problem(labirynth, finish)\n",
        "\n",
        "        dSolver = DijkstraSolver()\n",
        "        solution = dSolver.solve_problem(problem)\n",
        "        expected = np.array([[-1, -1]])\n",
        "        self.assertEqual(np.array_equal(solution, expected), True)\n",
        "\n",
        "def suite():\n",
        "    suite = unittest.TestSuite()\n",
        "    suite.addTest(DijkstraSolverTestCase('basicMapSuccess'))\n",
        "    suite.addTest(DijkstraSolverTestCase('startIsMeta'))\n",
        "    suite.addTest(DijkstraSolverTestCase('noPath'))\n",
        "    return suite\n",
        "\n",
        "if __name__ == '__main__':\n",
        "    runner = unittest.TextTestRunner()\n",
        "    runner.run(suite())"
      ],
      "execution_count": null,
      "outputs": [
        {
          "output_type": "stream",
          "text": [
            "...\n",
            "----------------------------------------------------------------------\n",
            "Ran 3 tests in 0.020s\n",
            "\n",
            "OK\n"
          ],
          "name": "stderr"
        }
      ]
    },
    {
      "cell_type": "markdown",
      "metadata": {
        "id": "-9u4YFZQEUXw"
      },
      "source": [
        "Algorytm Floyda Warshalla"
      ]
    },
    {
      "cell_type": "code",
      "metadata": {
        "id": "m5Eb6zCAiH27"
      },
      "source": [
        "class FloydWarshallSolver(Labirynth_Solver):\n",
        "  INF = 999999\n",
        "\n",
        "  def solve_problem(self, problem: Labirynth_Problem)-> np.ndarray:\n",
        "    self.n = problem.size\n",
        "    self.N = self.n * self.n\n",
        "    self.initTabs()\n",
        "    self.addEdges(problem.labirynth)\n",
        "    self.floydWarshall()\n",
        "    finish = problem.finish_position[0, 0] * self.n + problem.finish_position[0, 1]\n",
        "    self.steps = []\n",
        "    self.isPath = True\n",
        "    self.generatePath(0, finish)\n",
        "    self.generateSolution()\n",
        "    return self.solution\n",
        "\n",
        "  def initTabs(self):\n",
        "    self.dist = np.full((self.N, self.N), self.INF)\n",
        "    for i in range(self.N):\n",
        "      self.dist[i, i] = 0\n",
        "    self.p = np.full((self.N, self.N), -1)\n",
        "\n",
        "  def addEdges(self, labirynth: np.ndarray):\n",
        "    for i in range(self.n):\n",
        "      for j in range(self.n):\n",
        "        #field (i, j) has no obstacle\n",
        "        if (labirynth[i, j] == 1):\n",
        "          current = i * self.n + j\n",
        "          #field on the right from (i, j) has no obstacle\n",
        "          if (j < self.n - 1 and labirynth[i, j + 1] == 1):\n",
        "            right = current + 1\n",
        "            self.dist[current, right] = 1\n",
        "            self.p[current, right] = current\n",
        "            self.dist[right, current] = 1\n",
        "            self.p[right, current] = right\n",
        "          #field at the bottom form (i, j) has no obstacle\n",
        "          if (i < self.n - 1 and labirynth[i + 1, j] == 1):\n",
        "            down = current + self.n\n",
        "            self.dist[current, down] = 1\n",
        "            self.p[current, down] = current\n",
        "            self.dist[down, current] = 1\n",
        "            self.p[down, current] = down\n",
        "\n",
        "  def floydWarshall(self):\n",
        "    for k in range(self.N):\n",
        "      for i in range(self.N):\n",
        "        for j in range(self.N):\n",
        "          if (self.dist[i, k] == self.INF or self.dist[k, j] == self.INF):\n",
        "            continue\n",
        "          w = self.dist[i, k] + self.dist[k, j]\n",
        "          if (self.dist[i, j] > w):\n",
        "            self.dist[i, j] = w\n",
        "            self.p[i, j] = self.p[k, j]\n",
        "\n",
        "  def generatePath(self, start, finish):\n",
        "    if (start == finish):\n",
        "      self.steps.append(start)\n",
        "    elif (self.p[start, finish] == -1):\n",
        "      self.isPath = False\n",
        "    else:\n",
        "      self.generatePath(start, self.p[start, finish])\n",
        "      self.steps.append(finish)\n",
        "\n",
        "  def generateSolution(self):\n",
        "    if (self.isPath == True):\n",
        "      self.solution = np.empty((len(self.steps), 2), dtype=np.int32)\n",
        "      for i in range(len(self.steps)):\n",
        "        a = self.steps[i] // self.n\n",
        "        b = self.steps[i] % self.n\n",
        "        self.solution[i, 0] = a\n",
        "        self.solution[i, 1] = b\n",
        "    else:\n",
        "      self.solution = np.array([[-1, -1]])"
      ],
      "execution_count": null,
      "outputs": []
    },
    {
      "cell_type": "markdown",
      "metadata": {
        "id": "-Zqk-pRKE-h3"
      },
      "source": [
        "Algorytm Floyda Warshalla - TESTY"
      ]
    },
    {
      "cell_type": "code",
      "metadata": {
        "colab": {
          "base_uri": "https://localhost:8080/",
          "height": 337
        },
        "id": "XXCrWnbRiDNK",
        "outputId": "5e40644c-8d41-45d4-b2d2-2575cc8f44b3"
      },
      "source": [
        "class FloydWarshallSolverTestCase(unittest.TestCase):\n",
        "    def basicMapSuccess(self):\n",
        "        labirynth = np.array([[1, 0, 1, 0, 1 ], \n",
        "                              [1, 0, 0, 0, 0 ], \n",
        "                              [1, 1, 1, 1, 1 ], \n",
        "                              [0, 0, 0, 0, 0 ], \n",
        "                              [1, 1, 1, 1, 1 ]])\n",
        "        finish = np.array([[2, 4]])\n",
        "        problem = Labirynth_Problem(labirynth, finish)\n",
        "\n",
        "        fwSolver = FloydWarshallSolver()\n",
        "        solution = fwSolver.solve_problem(problem)\n",
        "        expected = np.array([[0, 0],\n",
        "                             [1, 0],\n",
        "                             [2, 0],\n",
        "                             [2, 1],\n",
        "                             [2, 2],\n",
        "                             [2, 3],\n",
        "                             [2, 4]])\n",
        "        self.assertEqual(np.array_equal(solution, expected), True)\n",
        "\n",
        "    def startIsMeta(self):\n",
        "        labirynth = np.array([[1, 0, 1, 0, 1 ], \n",
        "                              [1, 0, 0, 0, 0 ], \n",
        "                              [1, 1, 1, 1, 1 ], \n",
        "                              [0, 0, 0, 0, 0 ], \n",
        "                              [1, 1, 1, 1, 1 ]])\n",
        "        finish = np.array([[0, 0]])\n",
        "        problem = Labirynth_Problem(labirynth, finish)\n",
        "\n",
        "        fwSolver = FloydWarshallSolver()\n",
        "        solution = fwSolver.solve_problem(problem)\n",
        "        expected = np.array([[0, 0]])\n",
        "        self.assertEqual(np.array_equal(solution, expected), True)\n",
        "\n",
        "    def noPath(self):\n",
        "        labirynth = np.array([[1, 0, 1, 0, 1 ], \n",
        "                              [1, 0, 0, 0, 0 ], \n",
        "                              [1, 1, 1, 0, 1 ], \n",
        "                              [0, 0, 0, 0, 0 ], \n",
        "                              [1, 1, 1, 1, 1 ]])\n",
        "        finish = np.array([[2, 4]])\n",
        "        problem = Labirynth_Problem(labirynth, finish)\n",
        "\n",
        "        fwSolver = FloydWarshallSolver()\n",
        "        solution = fwSolver.solve_problem(problem)\n",
        "        expected = np.array([[-1, -1]])\n",
        "        self.assertEqual(np.array_equal(solution, expected), True)\n",
        "\n",
        "def suite():\n",
        "    suite = unittest.TestSuite()\n",
        "    suite.addTest(FloydWarshallSolverTestCase('basicMapSuccess'))\n",
        "    suite.addTest(FloydWarshallSolverTestCase('startIsMeta'))\n",
        "    suite.addTest(FloydWarshallSolverTestCase('noPath'))\n",
        "    return suite\n",
        "\n",
        "if __name__ == '__main__':\n",
        "    runner = unittest.TextTestRunner()\n",
        "    runner.run(suite())\n",
        "\n",
        "lab = generate_random_problem(20,0.2)\n",
        "lab.finish_position = np.array([[15,18]])\n",
        "lab.labirynth[15,18] = 1\n",
        "\n",
        "fw = FloydWarshallSolver()\n",
        "path = fw.solve_problem(lab)\n",
        "\n",
        "plot_labirynth(lab)\n",
        "plot_path(path)"
      ],
      "execution_count": null,
      "outputs": [
        {
          "output_type": "stream",
          "text": [
            "...\n",
            "----------------------------------------------------------------------\n",
            "Ran 3 tests in 0.039s\n",
            "\n",
            "OK\n"
          ],
          "name": "stderr"
        },
        {
          "output_type": "display_data",
          "data": {
            "image/png": "[encoded data removed]",
            "text/plain": [
              "<Figure size 432x288 with 1 Axes>"
            ]
          },
          "metadata": {
            "tags": []
          }
        }
      ]
    },
    {
      "cell_type": "markdown",
      "metadata": {
        "id": "17aAVpzDn9-g"
      },
      "source": [
        "Algorytm A*"
      ]
    },
    {
      "cell_type": "code",
      "metadata": {
        "id": "R7Q6MtZgiDBr"
      },
      "source": [
        "class AStarSolver(Labirynth_Solver):\n",
        "    def __init__(self):\n",
        "        pass\n",
        "\n",
        "    def reconstruct_path(self, came_from: np.ndarray, current_node, result : []) -> np.array:\n",
        "        if came_from[current_node[0], current_node[1]][0] != -1:\n",
        "            self.reconstruct_path(came_from, came_from[current_node[0], current_node[1]], result)\n",
        "            result.append(current_node)\n",
        "            return\n",
        "        else:\n",
        "            return[]\n",
        "\n",
        "    def solve_problem(self, problem: Labirynth_Problem) -> np.ndarray:\n",
        "        INF = 1_000_000\n",
        "\n",
        "        usedVertices = []  # Set of used vertices \n",
        "        unUsedVertices = [(0, 0)]  # set of unused vertices, adjacent to used vertices\n",
        "\n",
        "        # arrays filled with max int value, vertex distance estimation from start vertex\n",
        "        g_score = np.full((problem.size, problem.size), INF)\n",
        "        h_score = np.full((problem.size, problem.size), INF)\n",
        "        f_score = np.full((problem.size, problem.size), INF)\n",
        "\n",
        "        g_score[0, 0] = 0  # path from start to current vertex - cost estimation\n",
        "        f_score[0, 0] = 0\n",
        "        h_score[0, 0] = 0\n",
        "\n",
        "        value = np.empty((), dtype=object)\n",
        "        value[()] = (-1, -1)\n",
        "        came_from = np.full((problem.size, problem.size), value, dtype=object)\n",
        "\n",
        "        neighbors = []\n",
        "\n",
        "        while len(unUsedVertices) != 0:\n",
        "            # vertex form unUsedVertices with the least value of f(x)\n",
        "            unUsedVertices = sorted(unUsedVertices, key=lambda v: f_score[v[0], v[1]], reverse=False)\n",
        "            x = unUsedVertices.pop(0)\n",
        "\n",
        "            if x[0] == problem.finish_position[0, 0] and x[1] == problem.finish_position[0, 1]:\n",
        "                result = [(0, 0)]\n",
        "                self.reconstruct_path(came_from, problem.finish_position[0], result)\n",
        "                result = [np.array(elem) for elem in result]\n",
        "                result = np.vstack(result)\n",
        "                return result\n",
        "\n",
        "            usedVertices.append(x)\n",
        "            neighbors = []\n",
        "\n",
        "            # add all nieghbours of x which are not obstacles\n",
        "            if x[0] - 1 >= 0 and problem.labirynth[x[0] - 1, x[1]] == 1:\n",
        "                neighbors.append((x[0] - 1, x[1]))\n",
        "            if x[0] + 1 <= problem.size - 1 and problem.labirynth[x[0] + 1, x[1]] == 1:\n",
        "                neighbors.append((x[0] + 1, x[1]))\n",
        "            if x[1] - 1 >= 0 and problem.labirynth[x[0], x[1] - 1] == 1:\n",
        "                neighbors.append((x[0], x[1] - 1))\n",
        "            if x[1] + 1 <= problem.size - 1 and problem.labirynth[x[0], x[1] + 1] == 1:\n",
        "                neighbors.append((x[0], x[1] + 1))\n",
        "\n",
        "            for y in neighbors:\n",
        "                if y in usedVertices:\n",
        "                    continue\n",
        "\n",
        "                actual_g_score = g_score[x[0], x[1]] + abs(y[0] - x[0]) + abs(y[1] - x[1])\n",
        "                is_better = False\n",
        "\n",
        "                if y not in unUsedVertices:\n",
        "                    unUsedVertices.append(y)\n",
        "                    h_score[y[0], y[1]] = abs(problem.finish_position[0, 0] - y[0]) + abs(problem.finish_position[0, 1] - y[1])\n",
        "                    # print(\"h_score\\n\", h_score)\n",
        "                    is_better = True\n",
        "                elif actual_g_score < g_score[y[0], y[1]]:\n",
        "                    is_better = True\n",
        "\n",
        "                if is_better:\n",
        "                    came_from[y[0], y[1]] = x\n",
        "                    # print(\"Came from \\n\", came_from)\n",
        "                    g_score[y[0], y[1]] = actual_g_score\n",
        "                    # print(\"g_score \\n\", g_score)\n",
        "                    f_score[y[0], y[1]] = g_score[y[0], y[1]] + h_score[y[0], y[1]]  #  Estimated distance from start to goal across y\n",
        "                    # print(\"f_score \\n\", f_score)\n",
        "        return np.array([[-1,-1]])"
      ],
      "execution_count": null,
      "outputs": []
    },
    {
      "cell_type": "markdown",
      "metadata": {
        "id": "l61MTpncoNwQ"
      },
      "source": [
        "Algorytm A* - testy"
      ]
    },
    {
      "cell_type": "code",
      "metadata": {
        "colab": {
          "base_uri": "https://localhost:8080/",
          "height": 419
        },
        "id": "zAEk2EVKiCNL",
        "outputId": "37a9d98c-b958-48a2-ce30-ac87839189b8"
      },
      "source": [
        "    #Test 1 \n",
        "    maze = np.array([\n",
        "            [1, 0, 1, 1, 0, 0, 0, 1, 1, 1, 1, 1, 1, 1, 1],\n",
        "            [1, 0, 0, 1, 1, 1, 1, 1, 0, 0, 1, 1, 0, 0, 0],\n",
        "            [1, 1, 0, 1, 0, 0, 0, 0, 0, 0, 0, 1, 1, 1, 0],\n",
        "            [0, 1, 0, 1, 1, 1, 0, 1, 1, 0, 1, 1, 0, 1, 0],\n",
        "            [1, 1, 0, 0, 0, 1, 0, 1, 0, 0, 1, 0, 0, 1, 0],\n",
        "            [1, 0, 1, 1, 1, 1, 0, 1, 1, 1, 1, 1, 0, 1, 0],\n",
        "            [1, 0, 1, 0, 0, 0, 0, 1, 0, 0, 0, 0, 0, 1, 1],\n",
        "            [1, 1, 1, 0, 0, 1, 1, 1, 1, 1, 1, 1, 1, 0, 1],\n",
        "            [0, 0, 0, 1, 1, 1, 0, 0, 0, 0, 0, 0, 0, 0, 1],\n",
        "            [1, 1, 0, 1, 0, 1, 0, 1, 0, 1, 1, 1, 1, 1, 0],\n",
        "            [0, 1, 0, 1, 0, 1, 1, 1, 1, 1, 0, 1, 0, 0, 0],\n",
        "            [1, 1, 0, 1, 0, 0, 0, 0, 1, 1, 0, 1, 0, 1, 1],\n",
        "            [1, 0, 0, 1, 0, 0, 1, 1, 1, 0, 0, 1, 1, 1, 1],\n",
        "            [1, 1, 0, 1, 0, 1, 1, 0, 0, 0, 0, 0, 0, 0, 1],\n",
        "            [0, 1, 0, 1, 0, 1, 0, 1, 1, 1, 1, 1, 1, 1, 1]])\n",
        "    \n",
        "    finish_position = np.array([[14, 14]])\n",
        "    lab = Labirynth_Problem(maze, finish_position)\n",
        "    \n",
        "\n",
        "    plt.figure(figsize=(5, 5), dpi=100)\n",
        "    plot_labirynth(lab)\n",
        "\n",
        "    aSolver = AStarSolver()\n",
        "    pth = aSolver.solve_problem(lab)\n",
        "\n",
        "    plot_path(pth)\n",
        "\n"
      ],
      "execution_count": null,
      "outputs": [
        {
          "output_type": "display_data",
          "data": {
            "image/png": "[encoded data removed]",
            "text/plain": [
              "<Figure size 500x500 with 1 Axes>"
            ]
          },
          "metadata": {
            "tags": []
          }
        }
      ]
    },
    {
      "cell_type": "code",
      "metadata": {
        "colab": {
          "base_uri": "https://localhost:8080/",
          "height": 419
        },
        "id": "BkrxSM_1Uf0c",
        "outputId": "d817b7c8-d00c-48bc-9237-aab8e1cd8b30"
      },
      "source": [
        "    #Test 2\n",
        "    lab = generate_random_problem(20, 0.15)\n",
        "\n",
        "    plt.figure(figsize=(5, 5), dpi=100)\n",
        "    plot_labirynth(lab)\n",
        "\n",
        "    aSolver = AStarSolver()\n",
        "    pth = aSolver.solve_problem(lab)\n",
        "\n",
        "    plot_path(pth)\n",
        "    "
      ],
      "execution_count": null,
      "outputs": [
        {
          "output_type": "display_data",
          "data": {
            "image/png": "[encoded data removed]",
            "text/plain": [
              "<Figure size 500x500 with 1 Axes>"
            ]
          },
          "metadata": {
            "tags": []
          }
        }
      ]
    },
    {
      "cell_type": "code",
      "metadata": {
        "colab": {
          "base_uri": "https://localhost:8080/",
          "height": 419
        },
        "id": "G7FTsQV0Uuhw",
        "outputId": "64a0fccf-f3f3-4c61-a934-c18230a035eb"
      },
      "source": [
        "   #Test 3\n",
        "    random_problem = np.array([\n",
        "\t\t[1, 0, 1, 1, 0, 1, 1, 0, 1, 1, 1, 0, 1, 0, 1, 0, 1, 1, 0, 1],\n",
        "\t\t[1, 1, 1, 1, 0, 1, 1, 1, 1, 1, 0, 0, 1, 1, 1, 1, 0, 1, 0, 1],\n",
        "\t\t[1, 1, 1, 0, 1, 0, 1, 0, 1, 1, 0, 1, 0, 1, 0, 1, 1, 1, 1, 1],\n",
        "\t\t[1, 1, 1, 1, 1, 1, 1, 1, 1, 0, 1, 1, 0, 0, 1, 1, 1, 1, 1, 1],\n",
        "\t\t[1, 0, 0, 0, 1, 0, 1, 0, 1, 0, 1, 1, 1, 1, 0, 1, 1, 1, 1, 1],\n",
        "\t\t[1, 0, 1, 0, 1, 1, 1, 1, 0, 1, 1, 1, 1, 0, 1, 1, 1, 1, 0, 0],\n",
        "\t\t[1, 0, 1, 1, 1, 1, 0, 0, 1, 1, 1, 1, 1, 1, 1, 0, 1, 1, 0, 1],\n",
        "\t\t[0, 1, 1, 0, 0, 1, 1, 1, 1, 0, 1, 1, 0, 0, 1, 1, 1, 0, 1, 1],\n",
        "\t\t[1, 0, 1, 0, 1, 1, 0, 1, 0, 1, 1, 1, 0, 1, 1, 0, 1, 1, 1, 0],\n",
        "\t\t[1, 1, 1, 1, 1, 1, 0, 1, 1, 0, 1, 1, 0, 0, 1, 1, 1, 0, 1, 0],\n",
        "\t\t[1, 0, 0, 1, 1, 1, 1, 0, 0, 1, 1, 1, 1, 0, 1, 0, 1, 1, 1, 0],\n",
        "\t\t[0, 0, 1, 1, 1, 1, 1, 1, 0, 0, 1, 1, 0, 0, 1, 1, 1, 0, 0, 0],\n",
        "\t\t[1, 1, 0, 0, 1, 1, 1, 1, 0, 1, 1, 0, 0, 0, 1, 1, 0, 0, 1, 0],\n",
        "\t\t[1, 1, 0, 0, 1, 1, 1, 1, 1, 0, 1, 1, 0, 1, 1, 1, 1, 1, 0, 0],\n",
        "\t\t[1, 1, 1, 1, 0, 0, 0, 0, 0, 1, 0, 0, 1, 1, 1, 0, 0, 0, 1, 0],\n",
        "\t\t[1, 1, 0, 1, 0, 0, 0, 1, 1, 1, 1, 0, 1, 0, 1, 0, 1, 0, 1, 0],\n",
        "\t\t[1, 1, 0, 1, 1, 0, 0, 1, 1, 1, 0, 1, 1, 1, 1, 1, 0, 1, 0, 1],\n",
        "\t\t[0, 1, 1, 0, 1, 0, 1, 1, 0, 1, 0, 1, 1, 1, 0, 1, 0, 1, 0, 0],\n",
        "\t\t[1, 1, 1, 0, 1, 1, 1, 0, 1, 0, 1, 0, 1, 1, 0, 1, 1, 1, 1, 1],\n",
        "\t\t[1, 1, 1, 0, 0, 1, 1, 1, 1, 1, 0, 1, 0, 1, 1, 0, 0, 1, 1, 1]])\n",
        "\n",
        "    finish_position = np.array([[19, 19]])\n",
        "    lab = Labirynth_Problem(random_problem, finish_position)\n",
        "    \n",
        "\n",
        "    plt.figure(figsize=(5, 5), dpi=100)\n",
        "    plot_labirynth(lab)\n",
        "\n",
        "    aSolver = AStarSolver()\n",
        "    pth = aSolver.solve_problem(lab)\n",
        "\n",
        "    plot_path(pth)"
      ],
      "execution_count": null,
      "outputs": [
        {
          "output_type": "display_data",
          "data": {
            "image/png": "[encoded data removed]",
            "text/plain": [
              "<Figure size 500x500 with 1 Axes>"
            ]
          },
          "metadata": {
            "tags": []
          }
        }
      ]
    },
    {
      "cell_type": "code",
      "metadata": {
        "colab": {
          "base_uri": "https://localhost:8080/",
          "height": 419
        },
        "id": "LTsI6oCVVlHa",
        "outputId": "6c9176ca-4248-400a-f4b5-588dfc5f44aa"
      },
      "source": [
        "#Test 4\n",
        "labirynth = np.array([\n",
        "        [1,0,0,0,0,0,0,0],\n",
        "        [1,1,1,1,0,1,1,1],\n",
        "        [1,0,0,1,0,1,0,0],\n",
        "        [1,0,1,1,0,1,1,1],\n",
        "        [1,0,0,0,0,0,0,1],\n",
        "        [1,1,1,0,1,1,0,1],\n",
        "        [0,0,1,1,1,0,0,1],\n",
        "        [1,1,1,1,1,1,1,1]])\n",
        "    \n",
        "finish_position = np.array([[1, 7]])\n",
        "lab = Labirynth_Problem(labirynth, finish_position)\n",
        "\n",
        "\n",
        "plt.figure(figsize=(5, 5), dpi=100)\n",
        "plot_labirynth(lab)\n",
        "\n",
        "aSolver = AStarSolver()\n",
        "pth = aSolver.solve_problem(lab)\n",
        "\n",
        "plot_path(pth)"
      ],
      "execution_count": null,
      "outputs": [
        {
          "output_type": "display_data",
          "data": {
            "image/png": "[encoded data removed]",
            "text/plain": [
              "<Figure size 500x500 with 1 Axes>"
            ]
          },
          "metadata": {
            "tags": []
          }
        }
      ]
    },
    {
      "cell_type": "markdown",
      "metadata": {
        "id": "HmysllbLh_3e"
      },
      "source": [
        "### Algorytm genetyczny\n",
        "\n",
        "---\n"
      ]
    },
    {
      "cell_type": "code",
      "metadata": {
        "id": "WoEwl6DjiDvH"
      },
      "source": [
        "from enum import Enum\n",
        "class Direction(Enum):\n",
        "  RIGHT = (0,1)\n",
        "  DOWN = (1,0)\n",
        "  LEFT = (0,-1)\n",
        "  UP =(-1,0)"
      ],
      "execution_count": null,
      "outputs": []
    },
    {
      "cell_type": "markdown",
      "metadata": {
        "id": "EKszV9bhgcEf"
      },
      "source": [
        "Reprezentacja pojedynczego chromosomu "
      ]
    },
    {
      "cell_type": "code",
      "metadata": {
        "id": "OrvSH1iLT0ak"
      },
      "source": [
        "class Individual:\n",
        "  def __init__(self, genes: List[Direction] = None, fitness_value: float = 0):\n",
        "    self.genes = [] if genes is None else genes\n",
        "    self.fitness_value = fitness_value\n",
        "    self.solution = self.get_solution()\n",
        "\n",
        "  def get_solution(self) -> np.array:\n",
        "    ret = np.zeros((len(self.genes)+1,2), dtype=int)\n",
        "    for i in range(1,len(self.genes)+1):\n",
        "      ret[i] = ret[i-1]+self.genes[i-1].value\n",
        "    return ret\n",
        "\n",
        "  def clone(self):\n",
        "    cloned = Individual(list(self.genes), self.fitness_value)\n",
        "    return cloned\n",
        "\n",
        "  def __gt__(self, individual):\n",
        "    return self.fitness_value > individual.fitness_value\n",
        "  def __lt__(self, individual):\n",
        "    return self.fitness_value < individual.fitness_value\n",
        "\n",
        "  @staticmethod\n",
        "  def create_random_individual(chromosome_length: int):\n",
        "    dir_list = list(Direction)\n",
        "    ret = Individual()\n",
        "    for i in range(chromosome_length):\n",
        "      ret.genes.append(random.choice(dir_list))\n",
        "    ret.solution = ret.get_solution()\n",
        "    return ret"
      ],
      "execution_count": null,
      "outputs": []
    },
    {
      "cell_type": "markdown",
      "metadata": {
        "id": "BdreshfLgl46"
      },
      "source": [
        "Populacja i inicjalizacja populacji"
      ]
    },
    {
      "cell_type": "code",
      "metadata": {
        "id": "2B0FA94yiDlO"
      },
      "source": [
        "class Population:\n",
        "    def __init__(self, members:List[Individual] = []):\n",
        "      self.members = members\n",
        "\n",
        "    def GetAverageFitness(self) -> float:\n",
        "        cummulative = 0\n",
        "        for i in self.members:\n",
        "            cummulative = cummulative + i.fitness_value\n",
        "        return cummulative/len(self.members)\n",
        "        \n",
        "    def GetBestMember(self) -> Individual:\n",
        "        return max(self.members)\n"
      ],
      "execution_count": null,
      "outputs": []
    },
    {
      "cell_type": "code",
      "metadata": {
        "id": "AqsDFuDV4C8T"
      },
      "source": [
        "class PopulationInitializer:\n",
        "  def initialize_population(self, pop_size:int, max_chromosome_length:int) -> Population:\n",
        "    pass\n",
        "\n",
        "class RandomPopulationInitializer(PopulationInitializer):\n",
        "  def initialize_population(self, pop_size: int, max_chromosome_length: int) -> Population:\n",
        "    pop = []\n",
        "    for i in range(pop_size):\n",
        "      r = np.random.randint(1,max_chromosome_length)\n",
        "      pop.append(Individual.create_random_individual(r))\n",
        "    return Population(pop)\n",
        "\n",
        "class NoObstaclesPopulationInitializer(PopulationInitializer):\n",
        "    def __init__(self, problem: Labirynth_Problem):\n",
        "      self.problem = problem\n",
        "\n",
        "    def initialize_population(self, pop_size: int, max_chromosome_length: int) -> Population:\n",
        "      pop = []\n",
        "      dir_list = list(Direction)\n",
        "      for i in range(pop_size):\n",
        "        curr_genes = []\n",
        "        curr_pos = np.zeros((1,2), dtype=int)\n",
        "        r = np.random.randint(1,max_chromosome_length)\n",
        "        for j in range(r):\n",
        "          x = np.random.choice(dir_list, size = 4, replace = False)\n",
        "          to_add = x[0]\n",
        "          for k in range(1,4):\n",
        "            if self.__check_position(curr_pos+to_add.value, self.problem):\n",
        "              break\n",
        "            to_add = x[k]\n",
        "          curr_genes.append(to_add)\n",
        "          curr_pos = curr_pos + to_add.value\n",
        "        pop.append(Individual(curr_genes))\n",
        "      return Population(pop)\n",
        "\n",
        "    def __check_position(self, pos: np.array, problem: Labirynth_Problem) -> bool:\n",
        "      if pos[0][0] < 0 or pos[0][0] >= problem.size or pos[0][1] < 0 or pos[0][1] >= problem.size:\n",
        "        return False\n",
        "      if problem.labirynth[pos[0][0]][pos[0][1]] == 0:\n",
        "        return False\n",
        "      return True\n",
        "\n",
        "class OnionPopulationInitializer(PopulationInitializer):\n",
        "    def __init__(self, finish_point): # start_point = 0,0\n",
        "      self.finish_point = finish_point\n",
        "\n",
        "    def initialize_population(self, pop_size: int, chromosome_length: int) -> Population:\n",
        "      steps_right = self.finish_point[0]\n",
        "      steps_up = self.finish_point[1]\n",
        "      pop = []\n",
        "\n",
        "      for i in range((int)(pop_size/10)):\n",
        "        genes = [Direction.DOWN] * steps_up + [Direction.RIGHT] * steps_right\n",
        "        np.random.shuffle(genes)    \n",
        "        ind = Individual(genes)\n",
        "        pop.append(ind)\n",
        "      for i in range((int)(9*pop_size/10)):\n",
        "        pop.append(Individual.create_random_individual(chromosome_length))\n",
        "      return Population(pop)\n"
      ],
      "execution_count": null,
      "outputs": []
    },
    {
      "cell_type": "markdown",
      "metadata": {
        "id": "h6ptzJQ8grEm"
      },
      "source": [
        "Reprodukcja"
      ]
    },
    {
      "cell_type": "code",
      "metadata": {
        "id": "vkdeHwqb6NVj"
      },
      "source": [
        "class Reproduction:\n",
        "  def Reproduce(self, population: Population) -> List[List[Individual]]:\n",
        "    pass\n",
        "\n",
        "class Roulette_Reproduction(Reproduction):\n",
        "  def Reproduce(self, population: Population) -> List[List[Individual]]:\n",
        "    fitness_sum = sum([x.fitness_value for x in population.members])\n",
        "    choose_probability = [x.fitness_value/fitness_sum for x in population.members]\n",
        "    return list(np.random.choice(population.members, (int(len(population.members)/2),2), True, choose_probability))\n",
        "\n",
        "class Tournament_Reproduction(Reproduction):\n",
        "  def __init__(self, k: int = 10):\n",
        "    self.k = k\n",
        "\n",
        "  def Reproduce(self, population: Population) -> List[List[Individual]]:\n",
        "    ret = []\n",
        "    for i in range(int(len(population.members)/2)):\n",
        "      p1, p2 = np.random.choice(population.members, self.k, False), np.random.choice(population.members, self.k, False)\n",
        "      ret.append([max(p1),max(p2)])\n",
        "    return ret"
      ],
      "execution_count": null,
      "outputs": []
    },
    {
      "cell_type": "markdown",
      "metadata": {
        "id": "-Uy4zegxgtIl"
      },
      "source": [
        "Funkcja dopasowania"
      ]
    },
    {
      "cell_type": "code",
      "metadata": {
        "id": "98OqLeaV26C0"
      },
      "source": [
        "def Compute_fitness(individual: Individual,\n",
        "                    problem: Labirynth_Problem,\n",
        "                    dist_pen=1,\n",
        "                    obst_pen=1,\n",
        "                    path_len_pen=0.01):\n",
        "    last_point = individual.solution[-1]\n",
        "    distance_to_finish = \\\n",
        "    abs(problem.finish_position[0,0]-last_point[0]) + \\\n",
        "    abs(problem.finish_position[0,1]-last_point[1])\n",
        "    obstacles = 0\n",
        "    for p in individual.solution:\n",
        "        if (p[0] < 0 or p[1] < 0 or\n",
        "        p[0] >= problem.size or p[1] >= problem.size):\n",
        "            obstacles = obstacles + 1\n",
        "        elif problem.labirynth[p[0],p[1]] == 0:\n",
        "            obstacles = obstacles + 1\n",
        "    individual.fitness_value = 1/(dist_pen*distance_to_finish + obst_pen*obstacles + path_len_pen*len(individual.solution) + 1)"
      ],
      "execution_count": null,
      "outputs": []
    },
    {
      "cell_type": "markdown",
      "metadata": {
        "id": "P6LFaFCIgzG2"
      },
      "source": [
        "Operatory krzyżowania"
      ]
    },
    {
      "cell_type": "code",
      "metadata": {
        "id": "dSpYEeyznhi7"
      },
      "source": [
        "def cross_op(individual1: Individual, individual2: Individual) -> List[Individual]:\n",
        "    cut_point = np.random.randint(0, min(len(individual1.genes), len(individual2.genes)))\n",
        "    child1 = Individual(individual1.genes[:cut_point] + individual2.genes[cut_point:])\n",
        "    child2 = Individual(individual2.genes[:cut_point] + individual1.genes[cut_point:])\n",
        "    return [child1, child2]"
      ],
      "execution_count": null,
      "outputs": []
    },
    {
      "cell_type": "code",
      "metadata": {
        "id": "mRGEM8p2acDL"
      },
      "source": [
        "def cross_op_multipoints(individual1: Individual, individual2: Individual) -> List[Individual]:\n",
        "    if min(len(individual1.genes), len(individual2.genes)) >=3 :\n",
        "      cut_point1 = np.random.randint(0, min(len(individual1.genes), len(individual2.genes))/3)\n",
        "      cut_point2 = np.random.randint(min(len(individual1.genes), len(individual2.genes))/3, 2*min(len(individual1.genes), len(individual2.genes))/3)\n",
        "      cut_point3 = np.random.randint(2*min(len(individual1.genes), len(individual2.genes))/3, min(len(individual1.genes), len(individual2.genes)))\n",
        "      child1 = Individual(individual1.genes[:cut_point1] + individual2.genes[cut_point1:cut_point2] + individual1.genes[cut_point2:cut_point3])\n",
        "      child2 = Individual(individual2.genes[:cut_point1] + individual1.genes[cut_point1:cut_point2] + individual2.genes[cut_point2:cut_point3])\n",
        "      return [child1, child2]\n",
        "    else:\n",
        "      cut_point = np.random.randint(0, min(len(individual1.genes), len(individual2.genes)))\n",
        "      child1 = Individual(individual1.genes[:cut_point] + individual2.genes[cut_point:])\n",
        "      child2 = Individual(individual2.genes[:cut_point] + individual1.genes[cut_point:])\n",
        "      return [child1, child2]"
      ],
      "execution_count": null,
      "outputs": []
    },
    {
      "cell_type": "markdown",
      "metadata": {
        "id": "QXZX07Feg1EL"
      },
      "source": [
        "Operator mutacji"
      ]
    },
    {
      "cell_type": "code",
      "metadata": {
        "id": "-C6650cWnhx4"
      },
      "source": [
        "def mutation_op(individual: Individual):\n",
        "    r = np.random.randint(0,len(individual.genes))\n",
        "    individual.genes[r] = np.random.choice(list(Direction),1)[0]\n",
        "    individual.solution = individual.get_solution()"
      ],
      "execution_count": null,
      "outputs": []
    },
    {
      "cell_type": "markdown",
      "metadata": {
        "id": "lxXxJxwwg38s"
      },
      "source": [
        "Generowanie nowej populacji na podstawie populacji bazowej (reporodukcja + operatory)"
      ]
    },
    {
      "cell_type": "code",
      "metadata": {
        "id": "Sn412lgIniAg"
      },
      "source": [
        "def GenerateNewGeneration(pop: Population,\n",
        "                          problem: Labirynth_Problem,\n",
        "                          cross_prob,\n",
        "                          mutation_prob,\n",
        "                          reproduction,\n",
        "                          save_best)-> Population:\n",
        "    temp_pop = reproduction.Reproduce(pop)\n",
        "    children = []\n",
        "    r = np.random.rand(1)\n",
        "    for i in temp_pop:\n",
        "        if r < cross_prob:\n",
        "          children = children + cross_op(i[0],i[1])\n",
        "        else:\n",
        "          children = children + [i[0],i[1]]\n",
        "    \n",
        "    for c in np.random.choice(children,int(len(children)/(1/mutation_prob))):\n",
        "        mutation_op(c)\n",
        "    if save_best:\n",
        "      children[np.random.randint(0,len(children))] = pop.GetBestMember()\n",
        "    new_pop = Population(children)\n",
        "\n",
        "    return new_pop"
      ],
      "execution_count": null,
      "outputs": []
    },
    {
      "cell_type": "markdown",
      "metadata": {
        "id": "CSXHH51YhFWb"
      },
      "source": [
        "Główna pętla algorytmu genetycznego"
      ]
    },
    {
      "cell_type": "code",
      "metadata": {
        "id": "QSvIuOnGPZHy"
      },
      "source": [
        "def SolveProblem(problem: Labirynth_Problem,\n",
        "                 pop_size = 1000,\n",
        "                 max_iter = 1000,\n",
        "                 cross_prob = 0.95,\n",
        "                 mutation_prob = 0.2,\n",
        "                 dist_pen = 1,\n",
        "                 obst_pen = 1,\n",
        "                 path_len_pen = 0.01,\n",
        "                 reproduction = Roulette_Reproduction(),\n",
        "                 save_best = False,\n",
        "                 stop_K = 10,\n",
        "                 stop_alpha = 0.01\n",
        "                 ):\n",
        "  init = RandomPopulationInitializer()\n",
        "  pop = init.initialize_population(pop_size,problem.size**2)\n",
        "  for i in pop.members:\n",
        "    #Compute_fitness(i,lab,dist_pen,obst_pen,path_len_pen)\n",
        "    Compute_fitness(i, problem, dist_pen, obst_pen, path_len_pen)\n",
        "  curr_best_fitness = pop.GetBestMember().fitness_value\n",
        "  iter_count = 0\n",
        "  no_improvement_count = 0\n",
        "\n",
        "  while iter_count < max_iter:\n",
        "    #new_pop = GenerateNewGeneration(pop, lab,cross_prob,mutation_prob,reproduction,save_best)\n",
        "    new_pop = GenerateNewGeneration(pop, problem, cross_prob, mutation_prob, reproduction, save_best)\n",
        "\n",
        "    for i in new_pop.members:\n",
        "      Compute_fitness(i, problem, dist_pen, obst_pen, path_len_pen)\n",
        "      \n",
        "    pop = new_pop\n",
        "    no_improvement_count = no_improvement_count + 1\n",
        "\n",
        "    if pop.GetBestMember().fitness_value - curr_best_fitness >= stop_alpha:\n",
        "      curr_best_fitness = pop.GetBestMember().fitness_value\n",
        "      no_improvement_count = 0\n",
        "    else: \n",
        "      if no_improvement_count >= stop_K:\n",
        "        break\n",
        "    iter_count = iter_count + 1\n",
        "\n",
        "    #print(iter_count)\n",
        "    #print(\"Average fitness: \" + str(new_pop.GetAverageFitness())+\"   Best fitness: \"+str(new_pop.GetBestMember().fitness_value))\n",
        "  \n",
        "  return pop.GetBestMember().solution\n",
        "\n"
      ],
      "execution_count": null,
      "outputs": []
    },
    {
      "cell_type": "code",
      "metadata": {
        "id": "KYnZNk9dodyx"
      },
      "source": [
        "class GeneticSolver(Labirynth_Solver):\n",
        "  def solve_problem(self, problem: Labirynth_Problem) -> np.ndarray:\n",
        "    return SolveProblem(problem, 1000)"
      ],
      "execution_count": null,
      "outputs": []
    },
    {
      "cell_type": "markdown",
      "metadata": {
        "id": "-JyMoUlFhkaI"
      },
      "source": [
        "## Algorytm genetyczny a algorytmy planowania - przykładowe testy z wizualizacją "
      ]
    },
    {
      "cell_type": "code",
      "metadata": {
        "id": "gLvXbPtVqQqr",
        "colab": {
          "base_uri": "https://localhost:8080/",
          "height": 252
        },
        "outputId": "d3ea91bd-a265-4b0f-f3e3-6343f428b968"
      },
      "source": [
        "# in the third test its better for 3000 population memebers, stop_K=40, stop_alpha = 0.005, while in the below smaller values are better\n",
        "\n",
        "lab1 = generate_random_problem(20,0.1)\n",
        "lab1.finish_position = np.array([[18,18]])\n",
        "\n",
        "g = GeneticSolver()\n",
        "pop = g.solve_problem(lab1)\n",
        "\n",
        "plot_labirynth(lab1)\n",
        "plot_path(pop)"
      ],
      "execution_count": null,
      "outputs": [
        {
          "output_type": "display_data",
          "data": {
            "image/png": "[encoded data removed]",
            "text/plain": [
              "<Figure size 432x288 with 1 Axes>"
            ]
          },
          "metadata": {
            "tags": []
          }
        }
      ]
    },
    {
      "cell_type": "code",
      "metadata": {
        "colab": {
          "base_uri": "https://localhost:8080/",
          "height": 252
        },
        "id": "MYhb2hvmQn8g",
        "outputId": "e61aa52a-1893-47f0-830b-96520d7829e7"
      },
      "source": [
        "lab2 = generate_random_problem(20,0.23)\n",
        "lab2.finish_position = np.array([[18, 18]])\n",
        "\n",
        "g = GeneticSolver()\n",
        "pop = g.solve_problem(lab2)\n",
        "\n",
        "plot_labirynth(lab2)\n",
        "plot_path(pop)"
      ],
      "execution_count": null,
      "outputs": [
        {
          "output_type": "display_data",
          "data": {
            "image/png": "[encoded data removed]",
            "text/plain": [
              "<Figure size 432x288 with 1 Axes>"
            ]
          },
          "metadata": {
            "tags": []
          }
        }
      ]
    },
    {
      "cell_type": "code",
      "metadata": {
        "colab": {
          "base_uri": "https://localhost:8080/",
          "height": 252
        },
        "id": "qnrTqB43TfoQ",
        "outputId": "08f10f04-844f-4d21-dc5b-33556d8ffa01"
      },
      "source": [
        "# to increase precision: call for 3000 population memebers, stop_K=40, stop_alpha = 0.005\n",
        "\n",
        "maze = np.array([\n",
        "    [1, 0, 1, 1, 0, 0, 0, 1, 1, 1, 1, 1, 1, 1, 1, 1, 1, 1, 1, 1],\n",
        "    [1, 0, 0, 1, 1, 1, 1, 1, 0, 0, 1, 1, 0, 0, 0, 0, 1, 1, 1, 1],\n",
        "    [1, 1, 0, 1, 0, 0, 0, 0, 0, 0, 0, 1, 1, 1, 0, 0, 1, 1, 1, 1],\n",
        "    [0, 1, 0, 1, 1, 1, 0, 1, 1, 0, 1, 1, 0, 1, 0, 0, 1, 0, 1, 0],\n",
        "    [1, 1, 0, 0, 0, 1, 0, 1, 0, 0, 1, 0, 0, 1, 0, 0, 1, 0, 1, 0],\n",
        "    [1, 0, 1, 1, 1, 1, 0, 1, 1, 1, 1, 1, 0, 1, 0, 0, 1, 0, 1, 0],\n",
        "    [1, 0, 1, 0, 0, 0, 0, 1, 0, 0, 0, 0, 0, 1, 1, 1, 0, 1, 1, 0],\n",
        "    [1, 1, 1, 0, 0, 1, 1, 1, 1, 1, 1, 1, 1, 0, 1, 1, 0, 1, 1, 0],\n",
        "    [0, 0, 0, 1, 1, 1, 0, 0, 0, 0, 0, 0, 0, 0, 1, 1, 0, 1, 1, 0],\n",
        "    [1, 1, 0, 1, 0, 1, 0, 1, 0, 1, 1, 1, 1, 1, 0, 1, 0, 1, 1, 0],\n",
        "    [0, 1, 0, 1, 0, 1, 1, 1, 1, 1, 0, 1, 0, 0, 0, 1, 0, 1, 1, 0],\n",
        "    [1, 1, 0, 1, 0, 0, 0, 0, 1, 1, 0, 1, 0, 1, 1, 1, 0, 1, 1, 0],\n",
        "    [1, 0, 0, 1, 0, 0, 1, 1, 1, 0, 0, 1, 1, 1, 1, 1, 0, 1, 1, 0],\n",
        "    [1, 1, 0, 1, 0, 1, 1, 0, 0, 0, 0, 0, 0, 0, 1, 1, 1, 1, 1, 0],\n",
        "    [0, 1, 0, 1, 0, 1, 0, 1, 1, 1, 1, 1, 1, 1, 1, 1, 1, 1, 1, 0],\n",
        "    [0, 1, 0, 1, 0, 1, 0, 1, 1, 1, 1, 1, 1, 1, 1, 1, 1, 1, 1, 0],\n",
        "    [0, 1, 0, 1, 0, 1, 0, 1, 1, 1, 0, 1, 1, 1, 1, 1, 0, 1, 1, 0],\n",
        "    [0, 1, 0, 0, 0, 1, 0, 1, 0, 1, 0, 1, 1, 1, 1, 1, 1, 1, 1, 0],\n",
        "    [0, 1, 0, 1, 0, 1, 0, 1, 1, 1, 0, 1, 1, 1, 1, 1, 1, 1, 1, 0],\n",
        "    [0, 0, 0, 0, 0, 1, 0, 1, 1, 1, 1, 1, 1, 1, 1, 1, 0, 1, 1, 0]])\n",
        "\n",
        "finish_position = np.array([[18, 18]])\n",
        "lab3 = Labirynth_Problem(maze,finish_position)\n",
        "\n",
        "g = GeneticSolver()\n",
        "pop = g.solve_problem(lab3)\n",
        "\n",
        "plot_labirynth(lab3)\n",
        "plot_path(pop)"
      ],
      "execution_count": null,
      "outputs": [
        {
          "output_type": "display_data",
          "data": {
            "image/png": "[encoded data removed]",
            "text/plain": [
              "<Figure size 432x288 with 1 Axes>"
            ]
          },
          "metadata": {
            "tags": []
          }
        }
      ]
    },
    {
      "cell_type": "code",
      "metadata": {
        "colab": {
          "base_uri": "https://localhost:8080/",
          "height": 819
        },
        "id": "0zpprJPwXSqI",
        "outputId": "63d2f81e-39a0-4800-e1fe-de263eb28586"
      },
      "source": [
        "# planning algorithms\n",
        "\n",
        "solvers = [DijkstraSolver(),AStarSolver(),FloydWarshallSolver()]\n",
        "\n",
        "def ax_plot_population(population,ax) -> None:\n",
        "  for i in range(len(population.members)):\n",
        "    curr_path = population.members[i].get_solution()\n",
        "    ax.plot(curr_path[:,1], curr_path[:,0]) \n",
        "\n",
        "def draw():\n",
        "  fig = plt.figure(figsize=(10, 10), dpi=100)\n",
        "  for i in range(0, len(solvers)):\n",
        "\n",
        "      aSolver = solvers[i]\n",
        "      ax = fig.add_subplot(3, 3, i*3 +1)\n",
        "      if i == 0:\n",
        "          ax.set_ylabel('Dijkstra')\n",
        "      if i == 1:\n",
        "          ax.set_ylabel('A*')\n",
        "      if i == 2:\n",
        "          ax.set_ylabel('Floyd Warshall')\n",
        "\n",
        "      # 1\n",
        "      ax.imshow(lab1.labirynth, cmap=\"gray\")\n",
        "      ax.plot(lab1.finish_position[0, 1], lab1.finish_position[0, 0], \"r.\")\n",
        "      ax.set_xticks([])\n",
        "      ax.set_yticks([])\n",
        "      pth = aSolver.solve_problem(lab1)\n",
        "      if pth[0, 0] != -1:\n",
        "          ax.plot(pth[:, 1], pth[:, 0])\n",
        "      if i == 0:\n",
        "          ax.set_title(\"Niewiele losowych przeszkód\")\n",
        "\n",
        "      # 2\n",
        "      ax = fig.add_subplot(3, 3, i*3 +2)\n",
        "      ax.imshow(lab2.labirynth, cmap=\"gray\")\n",
        "      ax.plot(lab2.finish_position[0, 1], lab2.finish_position[0, 0], \"r.\")\n",
        "      ax.set_xticks([])\n",
        "      ax.set_yticks([])\n",
        "      pth = aSolver.solve_problem(lab2)\n",
        "      if pth[0, 0] != -1:\n",
        "          ax.plot(pth[:, 1], pth[:, 0])\n",
        "      if i == 0:\n",
        "          ax.set_title(\"Dużo losowych przeszkód\")\n",
        "\n",
        "      # 3\n",
        "      ax = fig.add_subplot(3, 3, i*3 +3)\n",
        "      ax.imshow(lab3.labirynth, cmap=\"gray\")\n",
        "      ax.plot(lab3.finish_position[0, 1], lab3.finish_position[0, 0], \"r.\")\n",
        "      ax.set_xticks([])\n",
        "      ax.set_yticks([])    \n",
        "      pth = aSolver.solve_problem(lab3)\n",
        "      if pth[0, 0] != -1:\n",
        "          ax.plot(pth[:, 1], pth[:, 0])\n",
        "      if i == 0:\n",
        "          ax.set_title(\"Skomplikowany labirynt\")\n",
        "\n",
        "  plt.show()\n",
        "\n",
        "draw()"
      ],
      "execution_count": null,
      "outputs": [
        {
          "output_type": "display_data",
          "data": {
            "image/png": "[encoded data removed]",
            "text/plain": [
              "<Figure size 1000x1000 with 9 Axes>"
            ]
          },
          "metadata": {
            "tags": []
          }
        }
      ]
    },
    {
      "cell_type": "markdown",
      "metadata": {
        "id": "hLaK8_kjQ1Km"
      },
      "source": [
        "## Testy wydajności"
      ]
    },
    {
      "cell_type": "code",
      "metadata": {
        "id": "mOde0wDIxoaE",
        "colab": {
          "base_uri": "https://localhost:8080/",
          "height": 374
        },
        "outputId": "157222d8-f481-407a-e2d7-f9a6b0e01feb"
      },
      "source": [
        "import random\n",
        "#Porównanie czasów\n",
        "def measure_time(solvers: List[Labirynth_Solver],\n",
        "                 problem_size:int=90,\n",
        "                 obstacle_rate:float=0.1,\n",
        "                 number_of_problems:int=10):\n",
        "  times = [[] for i in range(0,len(solvers))]\n",
        "  for i in range(0,number_of_problems):\n",
        "    print(f'Measuring problem {i+1} out of {number_of_problems}.')\n",
        "    problem = generate_random_problem(problem_size, obstacle_rate)\n",
        "    for j in range(0,len(solvers)):\n",
        "      start = time.time()\n",
        "      solvers[j].solve_problem(problem)\n",
        "      end = time.time()\n",
        "      times[j].append(end-start)\n",
        "  return np.array(times).T\n",
        "\n",
        "\n",
        "solvers = [GeneticSolver(),DijkstraSolver(),AStarSolver()]\n",
        "times = measure_time(solvers)\n",
        "\n",
        "df = pd.DataFrame(times)\n",
        "df.rename(columns={0: \"Genetic\", 1: \"Dijkstra\", 2:\"A*\"}).describe().loc[[\"mean\",\"std\",\"min\",\"50%\",\"max\"]]"
      ],
      "execution_count": null,
      "outputs": [
        {
          "output_type": "stream",
          "text": [
            "Measuring problem 1 out of 10.\n",
            "Measuring problem 2 out of 10.\n",
            "Measuring problem 3 out of 10.\n",
            "Measuring problem 4 out of 10.\n",
            "Measuring problem 5 out of 10.\n",
            "Measuring problem 6 out of 10.\n",
            "Measuring problem 7 out of 10.\n",
            "Measuring problem 8 out of 10.\n",
            "Measuring problem 9 out of 10.\n",
            "Measuring problem 10 out of 10.\n"
          ],
          "name": "stdout"
        },
        {
          "output_type": "execute_result",
          "data": {
            "text/html": [
              "<div>\n",
              "<style scoped>\n",
              "    .dataframe tbody tr th:only-of-type {\n",
              "        vertical-align: middle;\n",
              "    }\n",
              "\n",
              "    .dataframe tbody tr th {\n",
              "        vertical-align: top;\n",
              "    }\n",
              "\n",
              "    .dataframe thead th {\n",
              "        text-align: right;\n",
              "    }\n",
              "</style>\n",
              "<table border=\"1\" class=\"dataframe\">\n",
              "  <thead>\n",
              "    <tr style=\"text-align: right;\">\n",
              "      <th></th>\n",
              "      <th>Genetic</th>\n",
              "      <th>Dijkstra</th>\n",
              "      <th>A*</th>\n",
              "    </tr>\n",
              "  </thead>\n",
              "  <tbody>\n",
              "    <tr>\n",
              "      <th>mean</th>\n",
              "      <td>44.564882</td>\n",
              "      <td>0.672824</td>\n",
              "      <td>0.369377</td>\n",
              "    </tr>\n",
              "    <tr>\n",
              "      <th>std</th>\n",
              "      <td>6.950128</td>\n",
              "      <td>0.383957</td>\n",
              "      <td>0.629573</td>\n",
              "    </tr>\n",
              "    <tr>\n",
              "      <th>min</th>\n",
              "      <td>33.842338</td>\n",
              "      <td>0.009069</td>\n",
              "      <td>0.000446</td>\n",
              "    </tr>\n",
              "    <tr>\n",
              "      <th>50%</th>\n",
              "      <td>43.257821</td>\n",
              "      <td>0.776659</td>\n",
              "      <td>0.103044</td>\n",
              "    </tr>\n",
              "    <tr>\n",
              "      <th>max</th>\n",
              "      <td>54.196194</td>\n",
              "      <td>1.167686</td>\n",
              "      <td>2.042032</td>\n",
              "    </tr>\n",
              "  </tbody>\n",
              "</table>\n",
              "</div>"
            ],
            "text/plain": [
              "        Genetic  Dijkstra        A*\n",
              "mean  44.564882  0.672824  0.369377\n",
              "std    6.950128  0.383957  0.629573\n",
              "min   33.842338  0.009069  0.000446\n",
              "50%   43.257821  0.776659  0.103044\n",
              "max   54.196194  1.167686  2.042032"
            ]
          },
          "metadata": {
            "tags": []
          },
          "execution_count": 32
        }
      ]
    },
    {
      "cell_type": "code",
      "metadata": {
        "id": "XhnPMj389qGM"
      },
      "source": [
        ""
      ],
      "execution_count": null,
      "outputs": []
    }
  ]
}